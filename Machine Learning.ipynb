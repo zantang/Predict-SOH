{
 "cells": [
  {
   "cell_type": "code",
   "execution_count": null,
   "id": "3200b7de-9aa9-4f53-9b61-792bf8fa0eb0",
   "metadata": {},
   "outputs": [],
   "source": [
    "import numpy as np\n",
    "from impedance import preprocessing\n",
    "from impedance.models.circuits import CustomCircuit\n",
    "import impedance.models.circuits.fitting\n",
    "import numpy as np\n",
    "from scipy.linalg import inv\n",
    "from scipy.optimize import curve_fit, basinhopping\n",
    "\n",
    "filename = \"/Users/carypan/Documents/Laboratory/NiMH Project/Data/Powereign's Data/20210805_DCD35.csv\"\n",
    "data = np.genfromtxt(filename, delimiter = ',', dtype = None, skip_header = 0, encoding = 'UTF-8')\n",
    "[Row,Column] = data.shape\n",
    "\n",
    "fitdata = np.empty((Row, 16), dtype = object)\n",
    "for i in range(6):\n",
    "    data[0,i] = data[0,i].replace('\"', '')\n",
    "    fitdata[0,i] = data[0,i]\n",
    "\n",
    "circuit = 'R1-p(R2,CPE1)-p(R3-Wo1,CPE2)'\n",
    "initial_guess = [.01, .01, 100, .5, .01, .10**-3, .1, 100, .5]\n",
    "circuit = CustomCircuit(circuit, initial_guess = initial_guess)\n",
    "for i in range(len(circuit.get_param_names()[0])):\n",
    "    fitdata[0,i+6] = circuit.get_param_names()[0][i] + ' / ' + circuit.get_param_names()[1][i]\n",
    "\n",
    "for k in range(Row-1):\n",
    "    frequencies = np.empty(int((Column-6)/3))\n",
    "    Zreal = np.empty(int((Column-6)/3))\n",
    "    Zimag = np.empty(int((Column-6)/3))\n",
    "    for i in range(Column):\n",
    "        data[k+1,i] = data[k+1,i].replace('\"', '')\n",
    "        if i < 6:\n",
    "            fitdata[k+1,i] = data[k+1,i]\n",
    "        else:\n",
    "            if (i%3) == 0:\n",
    "                frequencies[(int((i-6)/3))]=data[k+1,i]\n",
    "            elif (i%3 == 1):\n",
    "                Zreal[(int((i-6)/3))]=data[k+1,i]\n",
    "            elif (i%3 == 2):\n",
    "                Zimag[(int((i-6)/3))]=data[k+1,i]\n",
    "    Z = Zreal + 1j*Zimag\n",
    "    frequencies, Z = preprocessing.ignoreBelowX(frequencies, Z)\n",
    "    circuit.fit(frequencies, Z)\n",
    "    Z_fit = circuit.predict(frequencies)\n",
    "    for i in range(len(circuit.get_param_names()[0])):\n",
    "        fitdata[k+1,i+6] = circuit.parameters_[i]\n",
    "    fitdata[k+1,15] = impedance.models.circuits.fitting.rmse(Z,Z_fit)"
   ]
  }
 ],
 "metadata": {
  "kernelspec": {
   "display_name": "Python 3 (ipykernel)",
   "language": "python",
   "name": "python3"
  },
  "language_info": {
   "codemirror_mode": {
    "name": "ipython",
    "version": 3
   },
   "file_extension": ".py",
   "mimetype": "text/x-python",
   "name": "python",
   "nbconvert_exporter": "python",
   "pygments_lexer": "ipython3",
   "version": "3.7.11"
  }
 },
 "nbformat": 4,
 "nbformat_minor": 5
}
