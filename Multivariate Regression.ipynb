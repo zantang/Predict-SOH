{
 "cells": [
  {
   "cell_type": "code",
   "execution_count": null,
   "id": "1ed7070d-f22c-4563-b25f-36fc3b812537",
   "metadata": {},
   "outputs": [],
   "source": [
    "import pandas as pd\n",
    "import matplotlib.pyplot as plt\n",
    "import torch\n",
    "import torch.optim as optim\n",
    "\n",
    "D = torch.tensor(pd.read_csv(\"linreg-multi-synthetic-2.csv\", header=None).values, dtype=torch.float)\n",
    "x_dataset = D[:, 0:2].t()     # We extract all rows and the first 2 columns, and then transpose it\n",
    "y_dataset = D[:, 2].t()       # We extract all rows and the last column, and transpose it\n",
    "# Make a convenient variable to remember the number of input columns\n",
    "n = 2\n",
    "\n",
    "### Model definition ###\n",
    "# First we define the trainable parameters A and b \n",
    "A = torch.randn((1, n), requires_grad=True)\n",
    "b = torch.randn(1, requires_grad=True)\n",
    "# Then we define the prediction model\n",
    "def model(x_input):\n",
    "    return A.mm(x_input) + b\n",
    "\n",
    "### Loss function definition ###\n",
    "def loss(y_predicted, y_target):\n",
    "    return ((y_predicted - y_target)**2).sum()\n",
    "\n",
    "### Training the model ###\n",
    "# Setup the optimizer object, so it optimizes a and b.\n",
    "optimizer = optim.Adam([A, b], lr=0.1)\n",
    "# Main optimization loop\n",
    "for t in range(2000):\n",
    "  # Set the gradients to 0.\n",
    "    optimizer.zero_grad()\n",
    "  # Compute the current predicted y's from x_dataset\n",
    "    y_predicted = model(x_dataset)\n",
    "  # See how far off the prediction is\n",
    "    current_loss = loss(y_predicted, y_dataset)\n",
    "  # Compute the gradient of the loss with respect to A and b.\n",
    "    current_loss.backward()\n",
    "  # Update A and b accordingly.\n",
    "    optimizer.step()\n",
    "    print(f\"t = {t}, loss = {current_loss}, A = {A.detach().numpy()}, b = {b.item()}\")"
   ]
  }
 ],
 "metadata": {
  "kernelspec": {
   "display_name": "Python 3 (ipykernel)",
   "language": "python",
   "name": "python3"
  },
  "language_info": {
   "codemirror_mode": {
    "name": "ipython",
    "version": 3
   },
   "file_extension": ".py",
   "mimetype": "text/x-python",
   "name": "python",
   "nbconvert_exporter": "python",
   "pygments_lexer": "ipython3",
   "version": "3.7.11"
  }
 },
 "nbformat": 4,
 "nbformat_minor": 5
}
